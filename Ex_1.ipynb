{
  "nbformat": 4,
  "nbformat_minor": 0,
  "metadata": {
    "colab": {
      "name": "Ex 1.ipynb",
      "provenance": []
    },
    "kernelspec": {
      "name": "python3",
      "display_name": "Python 3"
    },
    "language_info": {
      "name": "python"
    }
  },
  "cells": [
    {
      "cell_type": "code",
      "metadata": {
        "colab": {
          "base_uri": "https://localhost:8080/"
        },
        "id": "RMD5d1gztsDP",
        "outputId": "1281e6d7-e9bb-42a8-cb23-d2ec0ff5ee46"
      },
      "source": [
        "distance_in_metres=30\n",
        "distance_in_miles=distance_in_metres*0.621\n",
        "print(\"distance in miles=\", distance_in_miles, \"miles\") "
      ],
      "execution_count": 8,
      "outputs": [
        {
          "output_type": "stream",
          "text": [
            "distance in miles= 18.63 miles\n"
          ],
          "name": "stdout"
        }
      ]
    },
    {
      "cell_type": "code",
      "metadata": {
        "colab": {
          "base_uri": "https://localhost:8080/"
        },
        "id": "rtNtJyFwu8Mb",
        "outputId": "3ff25a0b-066a-474d-c0b5-bfc386b7e607"
      },
      "source": [
        "weight_in_kilograms= 40\n",
        "weight_in_pounds=weight_in_kilograms*2.20\n",
        "print(\"weight in pounds\", weight_in_pounds, \"pounds\")"
      ],
      "execution_count": 10,
      "outputs": [
        {
          "output_type": "stream",
          "text": [
            "weight in pounds = 88.0 pounds\n"
          ],
          "name": "stdout"
        }
      ]
    },
    {
      "cell_type": "code",
      "metadata": {
        "colab": {
          "base_uri": "https://localhost:8080/"
        },
        "id": "0tqq6xm5v06w",
        "outputId": "a83173fb-477b-4e06-e092-0c7a11e37a6e"
      },
      "source": [
        "variable_name = input(\"Enter variable value:- \")\n",
        "type(variable_name)\n",
        "\n"
      ],
      "execution_count": 66,
      "outputs": [
        {
          "output_type": "stream",
          "text": [
            "Enter variable value:- 45\n"
          ],
          "name": "stdout"
        },
        {
          "output_type": "execute_result",
          "data": {
            "text/plain": [
              "str"
            ]
          },
          "metadata": {},
          "execution_count": 66
        }
      ]
    }
  ]
}