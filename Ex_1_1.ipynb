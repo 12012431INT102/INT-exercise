{
  "nbformat": 4,
  "nbformat_minor": 0,
  "metadata": {
    "colab": {
      "name": "Ex 1.1.ipynb",
      "provenance": []
    },
    "kernelspec": {
      "name": "python3",
      "display_name": "Python 3"
    },
    "language_info": {
      "name": "python"
    }
  },
  "cells": [
    {
      "cell_type": "code",
      "metadata": {
        "colab": {
          "base_uri": "https://localhost:8080/"
        },
        "id": "WsINAwPsrWHT",
        "outputId": "d6f532ae-5ee2-4182-e98d-95f25c7c8ada"
      },
      "source": [
        "radius = 12\n",
        "height =24\n",
        "Vcy = 3.14*(radius)**2*(height)\n",
        "Vco = 1/3*(Vcy)\n",
        "\n",
        "print(\"Volume of Cylinder=\", Vcy)\n",
        "print(\"Volume of Cone=\", Vco)"
      ],
      "execution_count": 5,
      "outputs": [
        {
          "output_type": "stream",
          "text": [
            "Volume of Cylinder= 10851.84 \n",
            "Volume of Cone= 3617.2799999999997\n"
          ],
          "name": "stdout"
        }
      ]
    }
  ]
}