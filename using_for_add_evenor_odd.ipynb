{
  "nbformat": 4,
  "nbformat_minor": 0,
  "metadata": {
    "colab": {
      "name": "using_for_add_evenor_odd.ipynb",
      "provenance": []
    },
    "kernelspec": {
      "name": "python3",
      "display_name": "Python 3"
    },
    "language_info": {
      "name": "python"
    }
  },
  "cells": [
    {
      "cell_type": "code",
      "metadata": {
        "colab": {
          "base_uri": "https://localhost:8080/"
        },
        "id": "1IQoG9zQlqfk",
        "outputId": "8a12c69e-7697-4bc3-db1b-ebf12bf6fa1b"
      },
      "source": [
        "N= int(input(\"Enter the value of the number : \"))\n",
        "Total=0\n",
        "for i in range (2,N+1,2) :\n",
        " Total = Total + i\n",
        "print(\"Sum of all even numbers between 1 to \",N,\" is :\" ,Total)\n",
        "\n",
        "print(\"*************END****************\")"
      ],
      "execution_count": 55,
      "outputs": [
        {
          "output_type": "stream",
          "name": "stdout",
          "text": [
            "Enter the value of the number : 12\n",
            "Sum of all even numbers between 1 to  12  is : 42\n",
            "*************END****************\n"
          ]
        }
      ]
    },
    {
      "cell_type": "code",
      "metadata": {
        "colab": {
          "base_uri": "https://localhost:8080/"
        },
        "id": "x4kwFRK8oLNq",
        "outputId": "47dea5a2-49e3-4221-b5fd-c08575f1a893"
      },
      "source": [
        "N= int(input(\"Enter the value of N : \"))\n",
        "Total=0\n",
        "for i in range (1,N+1,2) :\n",
        " Total = Total + i\n",
        "print(\"Sum of all odd numbers between 1 to \",N,\" is :\" ,Total)\n",
        "\n",
        "print(\"*************END****************\")"
      ],
      "execution_count": 56,
      "outputs": [
        {
          "output_type": "stream",
          "name": "stdout",
          "text": [
            "Enter the value of N : 10\n",
            "Sum of all odd numbers between 1 to  10  is : 25\n",
            "*************END****************\n"
          ]
        }
      ]
    }
  ]
}